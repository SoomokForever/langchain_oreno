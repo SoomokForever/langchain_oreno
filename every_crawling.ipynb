{
 "cells": [
  {
   "cell_type": "code",
   "execution_count": 2,
   "metadata": {},
   "outputs": [
    {
     "ename": "TypeError",
     "evalue": "time.sleep() takes exactly one argument (0 given)",
     "output_type": "error",
     "traceback": [
      "\u001b[0;31m---------------------------------------------------------------------------\u001b[0m",
      "\u001b[0;31mTypeError\u001b[0m                                 Traceback (most recent call last)",
      "Cell \u001b[0;32mIn[2], line 40\u001b[0m\n\u001b[1;32m     37\u001b[0m \u001b[38;5;66;03m# 'ab9881' 입력\u001b[39;00m\n\u001b[1;32m     38\u001b[0m password_input\u001b[38;5;241m.\u001b[39msend_keys(\u001b[38;5;124m'\u001b[39m\u001b[38;5;124mab9881\u001b[39m\u001b[38;5;124m'\u001b[39m)\n\u001b[0;32m---> 40\u001b[0m \u001b[43mtime\u001b[49m\u001b[38;5;241;43m.\u001b[39;49m\u001b[43msleep\u001b[49m\u001b[43m(\u001b[49m\u001b[43m)\u001b[49m\n",
      "\u001b[0;31mTypeError\u001b[0m: time.sleep() takes exactly one argument (0 given)"
     ]
    }
   ],
   "source": [
    "# 정적크롤링\n",
    "import requests\n",
    "from bs4 import BeautifulSoup as bs\n",
    "import time\n",
    "# 셀레니움\n",
    "import time\n",
    "from selenium import webdriver\n",
    "from selenium.webdriver.chrome.service import Service\n",
    "from webdriver_manager.chrome import ChromeDriverManager\n",
    "from selenium.webdriver.common.by import By\n",
    "\n",
    "# ChromeOptions 설정 (옵션 생략 가능)\n",
    "chrome_options = webdriver.ChromeOptions()\n",
    "\n",
    "# ChromeDriver 설정 및 브라우저 실행\n",
    "driver = webdriver.Chrome(options=chrome_options)\n",
    "\n",
    "# 브라우저 창 크기 설정\n",
    "driver.set_window_size(1500, 750)\n",
    "\n",
    "# Google 홈페이지 열기\n",
    "driver.get('https://account.everytime.kr/login')\n",
    "\n",
    "time.sleep(3)\n",
    "\n",
    "# ID 입력란 찾기\n",
    "id_input = driver.find_element(By.NAME, 'id')\n",
    "# 입력란 클릭\n",
    "id_input.click()\n",
    "# 'ab9881' 입력\n",
    "id_input.send_keys('ab9881')\n",
    "\n",
    "# ID 입력란 찾기\n",
    "password_input = driver.find_element(By.NAME, 'password')\n",
    "# 입력란 클릭\n",
    "password_input.click()\n",
    "# 'ab9881' 입력\n",
    "password_input.send_keys('ab9881')\n",
    "\n",
    "time.sleep()"
   ]
  },
  {
   "cell_type": "code",
   "execution_count": 3,
   "metadata": {},
   "outputs": [
    {
     "ename": "SyntaxError",
     "evalue": "invalid syntax (179535076.py, line 1)",
     "output_type": "error",
     "traceback": [
      "\u001b[0;36m  Cell \u001b[0;32mIn[3], line 1\u001b[0;36m\u001b[0m\n\u001b[0;31m    which pip\u001b[0m\n\u001b[0m          ^\u001b[0m\n\u001b[0;31mSyntaxError\u001b[0m\u001b[0;31m:\u001b[0m invalid syntax\n"
     ]
    }
   ],
   "source": [
    "which pip"
   ]
  },
  {
   "cell_type": "code",
   "execution_count": null,
   "metadata": {},
   "outputs": [],
   "source": []
  }
 ],
 "metadata": {
  "kernelspec": {
   "display_name": "Python 3.10.14 ('studentEnv')",
   "language": "python",
   "name": "python3"
  },
  "language_info": {
   "codemirror_mode": {
    "name": "ipython",
    "version": 3
   },
   "file_extension": ".py",
   "mimetype": "text/x-python",
   "name": "python",
   "nbconvert_exporter": "python",
   "pygments_lexer": "ipython3",
   "version": "3.10.14"
  },
  "orig_nbformat": 4,
  "vscode": {
   "interpreter": {
    "hash": "09c0da1c959ed8167fd4b7bc1219d6622953318f408fb8b379ecb6380d675aca"
   }
  }
 },
 "nbformat": 4,
 "nbformat_minor": 2
}
