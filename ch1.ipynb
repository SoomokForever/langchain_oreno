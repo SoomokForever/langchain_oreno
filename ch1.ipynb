{
 "cells": [
  {
   "cell_type": "code",
   "execution_count": 2,
   "metadata": {},
   "outputs": [
    {
     "data": {
      "text/plain": [
       "True"
      ]
     },
     "execution_count": 2,
     "metadata": {},
     "output_type": "execute_result"
    }
   ],
   "source": [
    "# API KEY를 환경변수로 관리하기 위한 설정 파일\n",
    "from dotenv import load_dotenv\n",
    "import os\n",
    "\n",
    "# API KEY 정보로드\n",
    "load_dotenv()"
   ]
  },
  {
   "cell_type": "code",
   "execution_count": 3,
   "metadata": {},
   "outputs": [
    {
     "name": "stdout",
     "output_type": "stream",
     "text": [
      "LangSmith 추적을 시작합니다.\n",
      "[프로젝트명]\n",
      "OrenoTurn\n"
     ]
    }
   ],
   "source": [
    "# LangSmith 추적을 설정합니다. https://smith.langchain.com\n",
    "# .env 파일에 LANGCHAIN_API_KEY를 입력합니다.\n",
    "# !pip install -qU langchain-teddynote\n",
    "\n",
    "from langchain_teddynote import logging\n",
    "\n",
    "# 프로젝트 이름을 입력합니다.\n",
    "logging.langsmith('OrenoTurn',set_enable=True)"
   ]
  },
  {
   "cell_type": "code",
   "execution_count": 4,
   "metadata": {},
   "outputs": [
    {
     "name": "stdout",
     "output_type": "stream",
     "text": [
      "[답변]: content='대한민국의 수도는 서울특별시입니다. 서울은 대한민국의 정치, 경제, 문화의 중심지로서 중요한 역할을 하고 있습니다.' response_metadata={'token_usage': {'completion_tokens': 31, 'prompt_tokens': 16, 'total_tokens': 47}, 'model_name': 'gpt-4o', 'system_fingerprint': 'fp_3e7d703517', 'finish_reason': 'stop', 'logprobs': None} id='run-a22e0295-4c82-4ea7-8629-95ca8ac5e5a0-0' usage_metadata={'input_tokens': 16, 'output_tokens': 31, 'total_tokens': 47}\n"
     ]
    }
   ],
   "source": [
    "from langchain_openai import ChatOpenAI\n",
    "\n",
    "# 객체 생성\n",
    "llm = ChatOpenAI(\n",
    "    temperature=0.1, # 창의성 (0.0~ 2.0)\n",
    "    model_name = 'gpt-4o',\n",
    ")\n",
    "\n",
    "# 질의 내용\n",
    "question = '대한민국의 수도는 어디인가요?'\n",
    "\n",
    "# 질의\n",
    "print(f\"[답변]: {llm.invoke(question)}\")"
   ]
  },
  {
   "cell_type": "markdown",
   "metadata": {},
   "source": [
    "# 답변의 형식(AI Message)"
   ]
  },
  {
   "cell_type": "code",
   "execution_count": 11,
   "metadata": {},
   "outputs": [],
   "source": [
    "# 질의내용\n",
    "question = '대한민국의 수도는 어디인가요?'\n",
    "\n",
    "# 질의\n",
    "response = llm.invoke(question)"
   ]
  },
  {
   "cell_type": "code",
   "execution_count": 12,
   "metadata": {},
   "outputs": [
    {
     "data": {
      "text/plain": [
       "AIMessage(content='대한민국의 수도는 서울입니다. 서울은 대한민국의 정치, 경제, 문화의 중심지로서 많은 인구와 다양한 문화적, 역사적 명소를 보유하고 있습니다.', response_metadata={'token_usage': {'completion_tokens': 40, 'prompt_tokens': 16, 'total_tokens': 56}, 'model_name': 'gpt-4o', 'system_fingerprint': 'fp_9cb5d38cf7', 'finish_reason': 'stop', 'logprobs': None}, id='run-72928024-dfa1-43f1-9930-b8f49dac748c-0', usage_metadata={'input_tokens': 16, 'output_tokens': 40, 'total_tokens': 56})"
      ]
     },
     "execution_count": 12,
     "metadata": {},
     "output_type": "execute_result"
    }
   ],
   "source": [
    "response"
   ]
  },
  {
   "cell_type": "code",
   "execution_count": 13,
   "metadata": {},
   "outputs": [
    {
     "data": {
      "text/plain": [
       "'대한민국의 수도는 서울입니다. 서울은 대한민국의 정치, 경제, 문화의 중심지로서 많은 인구와 다양한 문화적, 역사적 명소를 보유하고 있습니다.'"
      ]
     },
     "execution_count": 13,
     "metadata": {},
     "output_type": "execute_result"
    }
   ],
   "source": [
    "response.content"
   ]
  },
  {
   "cell_type": "code",
   "execution_count": 16,
   "metadata": {},
   "outputs": [
    {
     "data": {
      "text/plain": [
       "{'token_usage': {'completion_tokens': 40,\n",
       "  'prompt_tokens': 16,\n",
       "  'total_tokens': 56},\n",
       " 'model_name': 'gpt-4o',\n",
       " 'system_fingerprint': 'fp_9cb5d38cf7',\n",
       " 'finish_reason': 'stop',\n",
       " 'logprobs': None}"
      ]
     },
     "execution_count": 16,
     "metadata": {},
     "output_type": "execute_result"
    }
   ],
   "source": [
    "response.response_metadata"
   ]
  },
  {
   "cell_type": "code",
   "execution_count": 5,
   "metadata": {},
   "outputs": [],
   "source": [
    "# 객체 생성\n",
    "llm_with_logprob = ChatOpenAI(\n",
    "    temperature=0.1,  # 창의성 (0.0 ~ 2.0)\n",
    "    max_tokens=2048,  # 최대 토큰수\n",
    "    model_name=\"gpt-3.5-turbo\",  # 모델명\n",
    ").bind(logprobs=True)"
   ]
  },
  {
   "cell_type": "code",
   "execution_count": 38,
   "metadata": {},
   "outputs": [],
   "source": [
    "# 질의내용\n",
    "question = '대한민국 수도는 어디인가요?'\n",
    "\n",
    "# 질의\n",
    "response = llm_with_logprob.invoke(question)"
   ]
  },
  {
   "cell_type": "code",
   "execution_count": 40,
   "metadata": {},
   "outputs": [
    {
     "data": {
      "text/plain": [
       "{'token_usage': {'completion_tokens': 15,\n",
       "  'prompt_tokens': 23,\n",
       "  'total_tokens': 38},\n",
       " 'model_name': 'gpt-3.5-turbo',\n",
       " 'system_fingerprint': None,\n",
       " 'finish_reason': 'stop',\n",
       " 'logprobs': {'content': [{'token': '대',\n",
       "    'bytes': [235, 140, 128],\n",
       "    'logprob': -0.017164133,\n",
       "    'top_logprobs': []},\n",
       "   {'token': '한',\n",
       "    'bytes': [237, 149, 156],\n",
       "    'logprob': -1.9361265e-07,\n",
       "    'top_logprobs': []},\n",
       "   {'token': '\\\\xeb\\\\xaf',\n",
       "    'bytes': [235, 175],\n",
       "    'logprob': -1.2664457e-06,\n",
       "    'top_logprobs': []},\n",
       "   {'token': '\\\\xbc', 'bytes': [188], 'logprob': 0.0, 'top_logprobs': []},\n",
       "   {'token': '\\\\xea\\\\xb5',\n",
       "    'bytes': [234, 181],\n",
       "    'logprob': -1.0280384e-06,\n",
       "    'top_logprobs': []},\n",
       "   {'token': '\\\\xad', 'bytes': [173], 'logprob': 0.0, 'top_logprobs': []},\n",
       "   {'token': '의',\n",
       "    'bytes': [236, 157, 152],\n",
       "    'logprob': -0.020179443,\n",
       "    'top_logprobs': []},\n",
       "   {'token': ' 수',\n",
       "    'bytes': [32, 236, 136, 152],\n",
       "    'logprob': -2.1008714e-06,\n",
       "    'top_logprobs': []},\n",
       "   {'token': '도',\n",
       "    'bytes': [235, 143, 132],\n",
       "    'logprob': -4.3202e-07,\n",
       "    'top_logprobs': []},\n",
       "   {'token': '는',\n",
       "    'bytes': [235, 138, 148],\n",
       "    'logprob': -9.0883464e-07,\n",
       "    'top_logprobs': []},\n",
       "   {'token': ' 서',\n",
       "    'bytes': [32, 236, 132, 156],\n",
       "    'logprob': -6.6306106e-06,\n",
       "    'top_logprobs': []},\n",
       "   {'token': '\\\\xec\\\\x9a',\n",
       "    'bytes': [236, 154],\n",
       "    'logprob': -4.3202e-07,\n",
       "    'top_logprobs': []},\n",
       "   {'token': '\\\\xb8', 'bytes': [184], 'logprob': 0.0, 'top_logprobs': []},\n",
       "   {'token': '입니다',\n",
       "    'bytes': [236, 158, 133, 235, 139, 136, 235, 139, 164],\n",
       "    'logprob': -0.31183386,\n",
       "    'top_logprobs': []},\n",
       "   {'token': '.',\n",
       "    'bytes': [46],\n",
       "    'logprob': -1.147242e-06,\n",
       "    'top_logprobs': []}]}}"
      ]
     },
     "execution_count": 40,
     "metadata": {},
     "output_type": "execute_result"
    }
   ],
   "source": [
    "response.response_metadata"
   ]
  },
  {
   "cell_type": "markdown",
   "metadata": {},
   "source": [
    "# 스트리밍 출력"
   ]
  },
  {
   "cell_type": "code",
   "execution_count": 6,
   "metadata": {},
   "outputs": [],
   "source": [
    "# 스트림 방식으로 질의\n",
    "# answer 에 스트리밍 답변의 결과를 받습니다.\n",
    "answer = llm.stream('대한민국의 아름다운 관광지 10곳과 주소를 알려주세요!')"
   ]
  },
  {
   "cell_type": "code",
   "execution_count": 7,
   "metadata": {},
   "outputs": [
    {
     "name": "stdout",
     "output_type": "stream",
     "text": [
      "물론입니다! 대한민국에는 아름다운 관광지가 많이 있습니다. 다음은 그 중에서 10곳과 그 주소입니다:\n",
      "\n",
      "1. **경복궁**\n",
      "   - 주소: 서울특별시 종로구 사직로 161\n",
      "\n",
      "2. **부산 해운대 해수욕장**\n",
      "   - 주소: 부산광역시 해운대구 해운대해변로 264\n",
      "\n",
      "3. **제주도 한라산 국립공원**\n",
      "   - 주소: 제주특별자치도 제주시 1100로 2070-61\n",
      "\n",
      "4. **경주 불국사**\n",
      "   - 주소: 경상북도 경주시 불국로 385\n",
      "\n",
      "5. **설악산 국립공원**\n",
      "   - 주소: 강원도 속초시 설악산로 833\n",
      "\n",
      "6. **남이섬**\n",
      "   - 주소: 강원도 춘천시 남산면 남이섬길 1\n",
      "\n",
      "7. **안동 하회마을**\n",
      "   - 주소: 경상북도 안동시 풍천면 하회종가길 40\n",
      "\n",
      "8. **전주 한옥마을**\n",
      "   - 주소: 전라북도 전주시 완산구 기린대로 99\n",
      "\n",
      "9. **서울 남산타워 (N서울타워)**\n",
      "   - 주소: 서울특별시 용산구 남산공원길 105\n",
      "\n",
      "10. **순천만 국가정원**\n",
      "    - 주소: 전라남도 순천시 국가정원1호길 47\n",
      "\n",
      "이곳들은 각기 다른 매력을 가지고 있어 다양한 경험을 할 수 있습니다. 즐거운 여행 되세요!"
     ]
    }
   ],
   "source": [
    "# 스트리밍 방식으로 각 토큰을 출력합니다. (실시간 출력)\n",
    "for token in answer:\n",
    "    print(token.content, end='',flush=True)"
   ]
  },
  {
   "cell_type": "markdown",
   "metadata": {},
   "source": [
    "# LCEL 인터페이스"
   ]
  },
  {
   "cell_type": "code",
   "execution_count": 9,
   "metadata": {},
   "outputs": [],
   "source": [
    "from langchain_openai import ChatOpenAI\n",
    "from langchain_core.prompts import PromptTemplate\n",
    "from langchain_core.output_parsers import StrOutputParser\n",
    "\n",
    "# ChatOpenAI 모델을 인스턴스화합니다.\n",
    "model = ChatOpenAI()\n",
    "# 주어진 토픽에 대한 농담을 요청하는 프롬프트 템플릿을 생성합니다.\n",
    "prompt = PromptTemplate.from_template('{topic} 에 대하여 3문장으로 설명해줘.')\n",
    "# 프롬프트와 모델을 연결하여 대화 체인을 생성합니다.\n",
    "chain = prompt | model | StrOutputParser()"
   ]
  },
  {
   "cell_type": "code",
   "execution_count": 10,
   "metadata": {},
   "outputs": [
    {
     "data": {
      "text/plain": [
       "['ChatGPT는 자연어 처리 기술을 이용하여 사용자와 대화하는 인공지능 챗봇이다. 사용자의 질문에 대답하거나 대화를 이어나가는 데 도움을 줄 뿐만 아니라, 다양한 주제에 대한 정보도 제공한다. ChatGPT는 머신러닝 알고리즘을 기반으로 작동하며, 계속해서 학습하고 발전하면서 더욱 정확하고 유용한 서비스를 제공한다.',\n",
       " 'Instagram은 사진과 동영상을 공유하고 소셜 네트워크를 형성하는 앱이다. 사용자들은 팔로워들과 소통하며 자신의 일상을 공유할 수 있다. 또한 해시태그를 통해 특정 주제나 관심사에 관련된 게시물을 찾을 수 있다.',\n",
       " '멀티모달은 여러 가지 다른 형식의 매체를 결합하여 정보를 전달하거나 상호작용하는 방식을 의미합니다. 이는 텍스트, 이미지, 음성, 비디오 등의 다양한 매체를 함께 사용하여 사용자에게 더 풍부한 경험을 제공합니다. 멀티모달은 정보 처리 및 이해에 있어서 보다 효율적이고 효과적인 방법으로 사용될 수 있습니다.',\n",
       " '프로그래밍은 컴퓨터에게 일련의 명령을 전달하여 원하는 작업을 수행하도록 하는 과정이다. 프로그래밍은 문제 해결능력과 논리적 사고를 요구하며, 프로그래밍 언어를 사용하여 코드를 작성한다. 프로그래밍을 통해 다양한 소프트웨어 및 애플리케이션을 개발할 수 있어 현대 사회에서 중요한 역할을 한다.',\n",
       " '머신러닝은 컴퓨터가 데이터를 학습하고 패턴을 발견하여 예측하거나 결정을 내리는 인공지능의 한 분야입니다. 이를 위해 알고리즘과 모델을 사용하여 데이터를 분석하고 학습하는 과정을 거칩니다. 머신러닝은 이미지 인식, 자연어 처리, 추천 시스템 등 다양한 분야에서 활용되고 있습니다.']"
      ]
     },
     "execution_count": 10,
     "metadata": {},
     "output_type": "execute_result"
    }
   ],
   "source": [
    "chain.batch(\n",
    "    [\n",
    "        {\"topic\": \"ChatGPT\"},\n",
    "        {\"topic\": \"Instagram\"},\n",
    "        {\"topic\": \"멀티모달\"},\n",
    "        {\"topic\": \"프로그래밍\"},\n",
    "        {\"topic\": \"머신러닝\"},\n",
    "    ],\n",
    "    config={\"max_concurrency\": 3},\n",
    ")"
   ]
  },
  {
   "cell_type": "code",
   "execution_count": 11,
   "metadata": {},
   "outputs": [],
   "source": [
    "# 주어진 토픽에 대해 비동기적으로 일괄 처리를 수행합니다.\n",
    "my_abatch_process = chain.abatch(\n",
    "    [{\"topic\": \"YouTube\"}, {\"topic\": \"Instagram\"}, {\"topic\": \"Facebook\"}]\n",
    ")"
   ]
  },
  {
   "cell_type": "code",
   "execution_count": 12,
   "metadata": {},
   "outputs": [
    {
     "data": {
      "text/plain": [
       "['YouTube는 동영상 공유 플랫폼으로 영상을 업로드하고 시청할 수 있는 서비스이다. 사용자들은 다양한 주제의 동영상을 찾아 시청하며, 댓글을 남기거나 구독할 수 있다. 크리에이터들은 YouTube를 통해 수익을 창출하고 자신의 콘텐츠를 전 세계적으로 공유할 수 있다.',\n",
       " 'Instagram은 사진과 동영상을 공유하고 소셜 네트워크 서비스를 제공하는 앱이다. 사용자들은 다양한 필터와 효과를 이용하여 자신의 콘텐츠를 꾸밀 수 있으며, 팔로워들과 소통하고 소셜 미디어 플랫폼으로 활용할 수 있다. 또한 해시태그를 통해 특정 주제나 관심사에 맞는 게시물을 찾아볼 수 있어 사용자들 간의 교류가 활발하다.',\n",
       " 'Facebook은 전 세계적으로 가장 대중적인 소셜 네트워크 서비스 중 하나이며, 사용자들은 친구들과 가족들과 소통하고 사진이나 동영상을 공유할 수 있다. 또한 광고주들에게는 타겟팅 광고를 통해 특정 대상을 효과적으로 도달할 수 있는 플랫폼으로서 인기를 끌고 있다.']"
      ]
     },
     "execution_count": 12,
     "metadata": {},
     "output_type": "execute_result"
    }
   ],
   "source": [
    "# 비동기로 처리되는 일괄 처리 프로세스가 완료될 때까지 기다립니다.\n",
    "await my_abatch_process"
   ]
  }
 ],
 "metadata": {
  "kernelspec": {
   "display_name": "Python 3.10.14 ('studentEnv')",
   "language": "python",
   "name": "python3"
  },
  "language_info": {
   "codemirror_mode": {
    "name": "ipython",
    "version": 3
   },
   "file_extension": ".py",
   "mimetype": "text/x-python",
   "name": "python",
   "nbconvert_exporter": "python",
   "pygments_lexer": "ipython3",
   "version": "3.10.14"
  },
  "orig_nbformat": 4,
  "vscode": {
   "interpreter": {
    "hash": "09c0da1c959ed8167fd4b7bc1219d6622953318f408fb8b379ecb6380d675aca"
   }
  }
 },
 "nbformat": 4,
 "nbformat_minor": 2
}
